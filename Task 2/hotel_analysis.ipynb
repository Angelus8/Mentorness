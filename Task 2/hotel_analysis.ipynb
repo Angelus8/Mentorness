{
    "metadata": {
        "kernelspec": {
            "name": "SQL",
            "display_name": "SQL",
            "language": "sql"
        },
        "language_info": {
            "name": "sql",
            "version": ""
        }
    },
    "nbformat_minor": 2,
    "nbformat": 4,
    "cells": [
        {
            "cell_type": "markdown",
            "source": [
                "**1\\. TOTAL NUMBER OF RESERVATION**"
            ],
            "metadata": {
                "azdata_cell_guid": "4d7583e9-2f02-417f-b485-37c3f7fe3f6f"
            },
            "attachments": {}
        },
        {
            "cell_type": "code",
            "source": [
                "SELECT COUNT(*) total_reservation FROM hotels;"
            ],
            "metadata": {
                "azdata_cell_guid": "fb13abbc-0aab-4b24-8b53-6b5ba1d16d49",
                "language": "sql"
            },
            "outputs": [
                {
                    "output_type": "display_data",
                    "data": {
                        "text/html": "(1 row affected)"
                    },
                    "metadata": {}
                },
                {
                    "output_type": "display_data",
                    "data": {
                        "text/html": "Total execution time: 00:00:00.004"
                    },
                    "metadata": {}
                },
                {
                    "output_type": "execute_result",
                    "metadata": {},
                    "execution_count": 24,
                    "data": {
                        "application/vnd.dataresource+json": {
                            "schema": {
                                "fields": [
                                    {
                                        "name": "total_reservation"
                                    }
                                ]
                            },
                            "data": [
                                {
                                    "total_reservation": "700"
                                }
                            ]
                        },
                        "text/html": [
                            "<table>",
                            "<tr><th>total_reservation</th></tr>",
                            "<tr><td>700</td></tr>",
                            "</table>"
                        ]
                    }
                }
            ],
            "execution_count": 24
        },
        {
            "cell_type": "markdown",
            "source": [
                "**2\\. THE MOST POPULAR MEAL PLAN**"
            ],
            "metadata": {
                "language": "sql",
                "azdata_cell_guid": "4a970033-ccfd-4204-b4ab-1149648f90b5"
            },
            "attachments": {}
        },
        {
            "cell_type": "code",
            "source": [
                "SELECT TOP 1 type_of_meal_plan, COUNT(*) AS total_order FROM hotels\n",
                "GROUP BY type_of_meal_plan\n",
                "ORDER BY total_order DESC;"
            ],
            "metadata": {
                "language": "sql",
                "azdata_cell_guid": "18af5876-215e-431c-af4a-2ac390fdd1e2"
            },
            "outputs": [
                {
                    "output_type": "display_data",
                    "data": {
                        "text/html": "(1 row affected)"
                    },
                    "metadata": {}
                },
                {
                    "output_type": "display_data",
                    "data": {
                        "text/html": "Total execution time: 00:00:00.048"
                    },
                    "metadata": {}
                },
                {
                    "output_type": "execute_result",
                    "metadata": {},
                    "execution_count": 40,
                    "data": {
                        "application/vnd.dataresource+json": {
                            "schema": {
                                "fields": [
                                    {
                                        "name": "type_of_meal_plan"
                                    },
                                    {
                                        "name": "total_order"
                                    }
                                ]
                            },
                            "data": [
                                {
                                    "type_of_meal_plan": "Meal Plan 1",
                                    "total_order": "527"
                                }
                            ]
                        },
                        "text/html": [
                            "<table>",
                            "<tr><th>type_of_meal_plan</th><th>total_order</th></tr>",
                            "<tr><td>Meal Plan 1</td><td>527</td></tr>",
                            "</table>"
                        ]
                    }
                }
            ],
            "execution_count": 40
        },
        {
            "cell_type": "markdown",
            "source": [
                "### **3\\. The average price per room for reservations involving children**"
            ],
            "metadata": {
                "language": "sql",
                "azdata_cell_guid": "de12d766-a897-495d-a55e-24319eec524b"
            },
            "attachments": {}
        },
        {
            "cell_type": "code",
            "source": [
                "SELECT room_type_reserved, AVG(avg_price_per_room) AS avg_price_per_room FROM \n",
                "hotels WHERE no_of_children > 0\n",
                "GROUP BY room_type_reserved;"
            ],
            "metadata": {
                "language": "sql",
                "azdata_cell_guid": "32a5f965-9f3a-45d8-840b-bb98f75c275f"
            },
            "outputs": [
                {
                    "output_type": "display_data",
                    "data": {
                        "text/html": "(5 rows affected)"
                    },
                    "metadata": {}
                },
                {
                    "output_type": "display_data",
                    "data": {
                        "text/html": "Total execution time: 00:00:00.002"
                    },
                    "metadata": {}
                },
                {
                    "output_type": "execute_result",
                    "metadata": {},
                    "execution_count": 26,
                    "data": {
                        "application/vnd.dataresource+json": {
                            "schema": {
                                "fields": [
                                    {
                                        "name": "room_type_reserved"
                                    },
                                    {
                                        "name": "avg_price_per_room"
                                    }
                                ]
                            },
                            "data": [
                                {
                                    "room_type_reserved": "Room_Type 1",
                                    "avg_price_per_room": "123.12291653951009"
                                },
                                {
                                    "room_type_reserved": "Room_Type 2",
                                    "avg_price_per_room": "112.0780014038086"
                                },
                                {
                                    "room_type_reserved": "Room_Type 4",
                                    "avg_price_per_room": "86.31999969482422"
                                },
                                {
                                    "room_type_reserved": "Room_Type 6",
                                    "avg_price_per_room": "185.32823540182676"
                                },
                                {
                                    "room_type_reserved": "Room_Type 7",
                                    "avg_price_per_room": "187.0399932861328"
                                }
                            ]
                        },
                        "text/html": [
                            "<table>",
                            "<tr><th>room_type_reserved</th><th>avg_price_per_room</th></tr>",
                            "<tr><td>Room_Type 1</td><td>123.12291653951009</td></tr>",
                            "<tr><td>Room_Type 2</td><td>112.0780014038086</td></tr>",
                            "<tr><td>Room_Type 4</td><td>86.31999969482422</td></tr>",
                            "<tr><td>Room_Type 6</td><td>185.32823540182676</td></tr>",
                            "<tr><td>Room_Type 7</td><td>187.0399932861328</td></tr>",
                            "</table>"
                        ]
                    }
                }
            ],
            "execution_count": 26
        },
        {
            "cell_type": "markdown",
            "source": [
                "### **4\\. Number of reservation for the year 2018**"
            ],
            "metadata": {
                "azdata_cell_guid": "c5f092b4-ed9f-47a0-a568-12a4876d5351"
            },
            "attachments": {}
        },
        {
            "cell_type": "code",
            "source": [
                "SELECT COUNT(*) AS num_reservation\n",
                "FROM hotels WHERE YEAR(arrival_date) = 2018"
            ],
            "metadata": {
                "azdata_cell_guid": "d24f46bf-87a2-4800-b3ea-9bc397099e38",
                "language": "sql"
            },
            "outputs": [
                {
                    "output_type": "display_data",
                    "data": {
                        "text/html": "(1 row affected)"
                    },
                    "metadata": {}
                },
                {
                    "output_type": "display_data",
                    "data": {
                        "text/html": "Total execution time: 00:00:00.003"
                    },
                    "metadata": {}
                },
                {
                    "output_type": "execute_result",
                    "metadata": {},
                    "execution_count": 27,
                    "data": {
                        "application/vnd.dataresource+json": {
                            "schema": {
                                "fields": [
                                    {
                                        "name": "num_reservation"
                                    }
                                ]
                            },
                            "data": [
                                {
                                    "num_reservation": "577"
                                }
                            ]
                        },
                        "text/html": [
                            "<table>",
                            "<tr><th>num_reservation</th></tr>",
                            "<tr><td>577</td></tr>",
                            "</table>"
                        ]
                    }
                }
            ],
            "execution_count": 27
        },
        {
            "cell_type": "markdown",
            "source": [
                "### **5\\. The most commonly booked room type**"
            ],
            "metadata": {
                "language": "sql",
                "azdata_cell_guid": "b8140efb-bff8-4d5b-939b-d240a58d1da1"
            },
            "attachments": {}
        },
        {
            "cell_type": "code",
            "source": [
                "SELECT TOP 1 room_type_reserved, COUNT(*) total_reservation\n",
                "FROM hotels\n",
                "GROUP BY room_type_reserved\n",
                "ORDER BY total_reservation DESC;"
            ],
            "metadata": {
                "language": "sql",
                "azdata_cell_guid": "4d8bd93a-6d2d-473b-9486-bc988055332b"
            },
            "outputs": [
                {
                    "output_type": "display_data",
                    "data": {
                        "text/html": "(1 row affected)"
                    },
                    "metadata": {}
                },
                {
                    "output_type": "display_data",
                    "data": {
                        "text/html": "Total execution time: 00:00:00.022"
                    },
                    "metadata": {}
                },
                {
                    "output_type": "execute_result",
                    "metadata": {},
                    "execution_count": 41,
                    "data": {
                        "application/vnd.dataresource+json": {
                            "schema": {
                                "fields": [
                                    {
                                        "name": "room_type_reserved"
                                    },
                                    {
                                        "name": "total_reservation"
                                    }
                                ]
                            },
                            "data": [
                                {
                                    "room_type_reserved": "Room_Type 1",
                                    "total_reservation": "534"
                                }
                            ]
                        },
                        "text/html": [
                            "<table>",
                            "<tr><th>room_type_reserved</th><th>total_reservation</th></tr>",
                            "<tr><td>Room_Type 1</td><td>534</td></tr>",
                            "</table>"
                        ]
                    }
                }
            ],
            "execution_count": 41
        },
        {
            "cell_type": "markdown",
            "source": [
                "### **6\\. Total reservation fall on a week-end**"
            ],
            "metadata": {
                "language": "sql",
                "azdata_cell_guid": "854bf849-c962-4827-b34d-d4e474eecb76"
            },
            "attachments": {}
        },
        {
            "cell_type": "code",
            "source": [
                "SELECT COUNT(*) AS total_reservation\n",
                "FROM hotels\n",
                "WHERE no_of_weekend_nights > 0"
            ],
            "metadata": {
                "language": "sql",
                "azdata_cell_guid": "7a8b661e-bfa5-4148-a662-fda437b6f314"
            },
            "outputs": [
                {
                    "output_type": "display_data",
                    "data": {
                        "text/html": "(1 row affected)"
                    },
                    "metadata": {}
                },
                {
                    "output_type": "display_data",
                    "data": {
                        "text/html": "Total execution time: 00:00:00.004"
                    },
                    "metadata": {}
                },
                {
                    "output_type": "execute_result",
                    "metadata": {},
                    "execution_count": 42,
                    "data": {
                        "application/vnd.dataresource+json": {
                            "schema": {
                                "fields": [
                                    {
                                        "name": "total_reservation"
                                    }
                                ]
                            },
                            "data": [
                                {
                                    "total_reservation": "383"
                                }
                            ]
                        },
                        "text/html": [
                            "<table>",
                            "<tr><th>total_reservation</th></tr>",
                            "<tr><td>383</td></tr>",
                            "</table>"
                        ]
                    }
                }
            ],
            "execution_count": 42
        },
        {
            "cell_type": "markdown",
            "source": [
                "### **7\\. The highest and lowest lead time for reservations**"
            ],
            "metadata": {
                "language": "sql",
                "azdata_cell_guid": "b999e724-92e5-4db6-8e94-b68a353630ed"
            },
            "attachments": {}
        },
        {
            "cell_type": "code",
            "source": [
                "SELECT MAX(lead_time) AS max_lead_time, MIN(lead_time) AS min_lead_time\n",
                "FROM hotels"
            ],
            "metadata": {
                "language": "sql",
                "azdata_cell_guid": "1963cb31-c2c6-4d80-9ccf-4d3bb65ec794"
            },
            "outputs": [
                {
                    "output_type": "display_data",
                    "data": {
                        "text/html": "(1 row affected)"
                    },
                    "metadata": {}
                },
                {
                    "output_type": "display_data",
                    "data": {
                        "text/html": "Total execution time: 00:00:00.002"
                    },
                    "metadata": {}
                },
                {
                    "output_type": "execute_result",
                    "metadata": {},
                    "execution_count": 30,
                    "data": {
                        "application/vnd.dataresource+json": {
                            "schema": {
                                "fields": [
                                    {
                                        "name": "max_lead_time"
                                    },
                                    {
                                        "name": "min_lead_time"
                                    }
                                ]
                            },
                            "data": [
                                {
                                    "max_lead_time": "443",
                                    "min_lead_time": "0"
                                }
                            ]
                        },
                        "text/html": [
                            "<table>",
                            "<tr><th>max_lead_time</th><th>min_lead_time</th></tr>",
                            "<tr><td>443</td><td>0</td></tr>",
                            "</table>"
                        ]
                    }
                }
            ],
            "execution_count": 30
        },
        {
            "cell_type": "markdown",
            "source": [
                "### **8\\. The most common market segment type for reservation**"
            ],
            "metadata": {
                "language": "sql",
                "azdata_cell_guid": "d3274c24-64bd-4fd9-9626-02e7ccef6625"
            },
            "attachments": {}
        },
        {
            "cell_type": "code",
            "source": [
                "SELECT TOP 1 market_segment_type, COUNT(*) AS total_reservation\n",
                "FROM hotels\n",
                "GROUP BY market_segment_type\n",
                "ORDER BY total_reservation DESC"
            ],
            "metadata": {
                "language": "sql",
                "azdata_cell_guid": "240dbf81-1762-4c33-b8b2-d80410d975e8"
            },
            "outputs": [
                {
                    "output_type": "display_data",
                    "data": {
                        "text/html": "(1 row affected)"
                    },
                    "metadata": {}
                },
                {
                    "output_type": "display_data",
                    "data": {
                        "text/html": "Total execution time: 00:00:00.006"
                    },
                    "metadata": {}
                },
                {
                    "output_type": "execute_result",
                    "metadata": {},
                    "execution_count": 43,
                    "data": {
                        "application/vnd.dataresource+json": {
                            "schema": {
                                "fields": [
                                    {
                                        "name": "market_segment_type"
                                    },
                                    {
                                        "name": "total_reservation"
                                    }
                                ]
                            },
                            "data": [
                                {
                                    "market_segment_type": "Online",
                                    "total_reservation": "518"
                                }
                            ]
                        },
                        "text/html": [
                            "<table>",
                            "<tr><th>market_segment_type</th><th>total_reservation</th></tr>",
                            "<tr><td>Online</td><td>518</td></tr>",
                            "</table>"
                        ]
                    }
                }
            ],
            "execution_count": 43
        },
        {
            "cell_type": "markdown",
            "source": [
                "### **9\\. The number of reservations that have a booking status of \"Confirmed\"**"
            ],
            "metadata": {
                "language": "sql",
                "azdata_cell_guid": "f5bc0786-cdff-44d2-9dad-2fd163f5e8bd"
            },
            "attachments": {}
        },
        {
            "cell_type": "code",
            "source": [
                "SELECT COUNT(*) AS total_reservation FROM hotels WHERE booking_status='Confirmed';"
            ],
            "metadata": {
                "language": "sql",
                "azdata_cell_guid": "38171fbc-ccb8-44c9-8ab7-5a74a983ba49"
            },
            "outputs": [
                {
                    "output_type": "display_data",
                    "data": {
                        "text/html": "(1 row affected)"
                    },
                    "metadata": {}
                },
                {
                    "output_type": "display_data",
                    "data": {
                        "text/html": "Total execution time: 00:00:00.018"
                    },
                    "metadata": {}
                },
                {
                    "output_type": "execute_result",
                    "metadata": {},
                    "execution_count": 44,
                    "data": {
                        "application/vnd.dataresource+json": {
                            "schema": {
                                "fields": [
                                    {
                                        "name": "total_reservation"
                                    }
                                ]
                            },
                            "data": [
                                {
                                    "total_reservation": "0"
                                }
                            ]
                        },
                        "text/html": [
                            "<table>",
                            "<tr><th>total_reservation</th></tr>",
                            "<tr><td>0</td></tr>",
                            "</table>"
                        ]
                    }
                }
            ],
            "execution_count": 44
        },
        {
            "cell_type": "markdown",
            "source": [
                "### **10\\. The total number of adults and children across all reservations**"
            ],
            "metadata": {
                "azdata_cell_guid": "38d4bb09-2c27-417a-b654-e676b6ed55b8"
            },
            "attachments": {}
        },
        {
            "cell_type": "code",
            "source": [
                "SELECT SUM(no_of_adults) AS total_adult,\n",
                "       SUM(no_of_children) AS total_children \n",
                "FROM hotels \n",
                "WHERE no_of_adults > 0 AND no_of_children > 0"
            ],
            "metadata": {
                "azdata_cell_guid": "fcb28c92-85eb-4288-afb3-4d47bfc78931",
                "language": "sql",
                "tags": []
            },
            "outputs": [
                {
                    "output_type": "display_data",
                    "data": {
                        "text/html": "(1 row affected)"
                    },
                    "metadata": {}
                },
                {
                    "output_type": "display_data",
                    "data": {
                        "text/html": "Total execution time: 00:00:00.002"
                    },
                    "metadata": {}
                },
                {
                    "output_type": "execute_result",
                    "metadata": {},
                    "execution_count": 33,
                    "data": {
                        "application/vnd.dataresource+json": {
                            "schema": {
                                "fields": [
                                    {
                                        "name": "total_adult"
                                    },
                                    {
                                        "name": "total_children"
                                    }
                                ]
                            },
                            "data": [
                                {
                                    "total_adult": "87",
                                    "total_children": "63"
                                }
                            ]
                        },
                        "text/html": [
                            "<table>",
                            "<tr><th>total_adult</th><th>total_children</th></tr>",
                            "<tr><td>87</td><td>63</td></tr>",
                            "</table>"
                        ]
                    }
                }
            ],
            "execution_count": 33
        },
        {
            "cell_type": "markdown",
            "source": [
                "### **11\\. The average number of weekend nights for reservations involving children**"
            ],
            "metadata": {
                "language": "sql",
                "azdata_cell_guid": "d8a02613-bd0c-4dd0-838d-a59e2618b921"
            },
            "attachments": {}
        },
        {
            "cell_type": "code",
            "source": [
                "SELECT AVG(no_of_week_nights) AS avg_week_night  FROM hotels WHERE no_of_children > 0"
            ],
            "metadata": {
                "language": "",
                "azdata_cell_guid": "8a973aad-2354-42ec-913f-330d7f4f150b"
            },
            "outputs": [
                {
                    "output_type": "display_data",
                    "data": {
                        "text/html": "(1 row affected)"
                    },
                    "metadata": {}
                },
                {
                    "output_type": "display_data",
                    "data": {
                        "text/html": "Total execution time: 00:00:00.002"
                    },
                    "metadata": {}
                },
                {
                    "output_type": "execute_result",
                    "metadata": {},
                    "execution_count": 34,
                    "data": {
                        "application/vnd.dataresource+json": {
                            "schema": {
                                "fields": [
                                    {
                                        "name": "avg_week_night"
                                    }
                                ]
                            },
                            "data": [
                                {
                                    "avg_week_night": "2"
                                }
                            ]
                        },
                        "text/html": [
                            "<table>",
                            "<tr><th>avg_week_night</th></tr>",
                            "<tr><td>2</td></tr>",
                            "</table>"
                        ]
                    }
                }
            ],
            "execution_count": 34
        },
        {
            "cell_type": "markdown",
            "source": [
                "### **12\\. Number of reservation made in each month of the year**"
            ],
            "metadata": {
                "azdata_cell_guid": "33122265-d84e-4918-bd39-d681d0c14a90"
            },
            "attachments": {}
        },
        {
            "cell_type": "code",
            "source": [
                "SELECT MONTH(arrival_date) AS Month, \n",
                "       YEAR(arrival_date) AS Year, \n",
                "       COUNT(*) AS Total \n",
                "FROM hotels\n",
                "GROUP BY YEAR(arrival_date), \n",
                "         MONTH(arrival_date) \n",
                "ORDER BY [Year], [Month]"
            ],
            "metadata": {
                "azdata_cell_guid": "dc1c9525-5a67-4935-8b97-03d1116f4211",
                "language": ""
            },
            "outputs": [
                {
                    "output_type": "display_data",
                    "data": {
                        "text/html": "(18 rows affected)"
                    },
                    "metadata": {}
                },
                {
                    "output_type": "display_data",
                    "data": {
                        "text/html": "Total execution time: 00:00:00.004"
                    },
                    "metadata": {}
                },
                {
                    "output_type": "execute_result",
                    "metadata": {},
                    "execution_count": 35,
                    "data": {
                        "application/vnd.dataresource+json": {
                            "schema": {
                                "fields": [
                                    {
                                        "name": "Month"
                                    },
                                    {
                                        "name": "Year"
                                    },
                                    {
                                        "name": "Total"
                                    }
                                ]
                            },
                            "data": [
                                {
                                    "Month": "7",
                                    "Year": "2017",
                                    "Total": "8"
                                },
                                {
                                    "Month": "8",
                                    "Year": "2017",
                                    "Total": "14"
                                },
                                {
                                    "Month": "9",
                                    "Year": "2017",
                                    "Total": "35"
                                },
                                {
                                    "Month": "10",
                                    "Year": "2017",
                                    "Total": "40"
                                },
                                {
                                    "Month": "11",
                                    "Year": "2017",
                                    "Total": "13"
                                },
                                {
                                    "Month": "12",
                                    "Year": "2017",
                                    "Total": "13"
                                },
                                {
                                    "Month": "1",
                                    "Year": "2018",
                                    "Total": "11"
                                },
                                {
                                    "Month": "2",
                                    "Year": "2018",
                                    "Total": "28"
                                },
                                {
                                    "Month": "3",
                                    "Year": "2018",
                                    "Total": "52"
                                },
                                {
                                    "Month": "4",
                                    "Year": "2018",
                                    "Total": "67"
                                },
                                {
                                    "Month": "5",
                                    "Year": "2018",
                                    "Total": "55"
                                },
                                {
                                    "Month": "6",
                                    "Year": "2018",
                                    "Total": "84"
                                },
                                {
                                    "Month": "7",
                                    "Year": "2018",
                                    "Total": "36"
                                },
                                {
                                    "Month": "8",
                                    "Year": "2018",
                                    "Total": "56"
                                },
                                {
                                    "Month": "9",
                                    "Year": "2018",
                                    "Total": "45"
                                },
                                {
                                    "Month": "10",
                                    "Year": "2018",
                                    "Total": "63"
                                },
                                {
                                    "Month": "11",
                                    "Year": "2018",
                                    "Total": "41"
                                },
                                {
                                    "Month": "12",
                                    "Year": "2018",
                                    "Total": "39"
                                }
                            ]
                        },
                        "text/html": [
                            "<table>",
                            "<tr><th>Month</th><th>Year</th><th>Total</th></tr>",
                            "<tr><td>7</td><td>2017</td><td>8</td></tr>",
                            "<tr><td>8</td><td>2017</td><td>14</td></tr>",
                            "<tr><td>9</td><td>2017</td><td>35</td></tr>",
                            "<tr><td>10</td><td>2017</td><td>40</td></tr>",
                            "<tr><td>11</td><td>2017</td><td>13</td></tr>",
                            "<tr><td>12</td><td>2017</td><td>13</td></tr>",
                            "<tr><td>1</td><td>2018</td><td>11</td></tr>",
                            "<tr><td>2</td><td>2018</td><td>28</td></tr>",
                            "<tr><td>3</td><td>2018</td><td>52</td></tr>",
                            "<tr><td>4</td><td>2018</td><td>67</td></tr>",
                            "<tr><td>5</td><td>2018</td><td>55</td></tr>",
                            "<tr><td>6</td><td>2018</td><td>84</td></tr>",
                            "<tr><td>7</td><td>2018</td><td>36</td></tr>",
                            "<tr><td>8</td><td>2018</td><td>56</td></tr>",
                            "<tr><td>9</td><td>2018</td><td>45</td></tr>",
                            "<tr><td>10</td><td>2018</td><td>63</td></tr>",
                            "<tr><td>11</td><td>2018</td><td>41</td></tr>",
                            "<tr><td>12</td><td>2018</td><td>39</td></tr>",
                            "</table>"
                        ]
                    }
                }
            ],
            "execution_count": 35
        },
        {
            "cell_type": "markdown",
            "source": [
                "### **13. the average number of nights (both weekend and weekday) spent by guests for each room type**"
            ],
            "metadata": {
                "azdata_cell_guid": "ee210b73-a84e-47ef-88e4-07ccb98966b6"
            },
            "attachments": {}
        },
        {
            "cell_type": "code",
            "source": [
                "SELECT room_type_reserved, AVG(no_of_week_nights + no_of_weekend_nights) AS avg_night \n",
                "FROM hotels\n",
                "GROUP BY room_type_reserved"
            ],
            "metadata": {
                "azdata_cell_guid": "58b25443-57a3-44a1-a154-41cddbc241cf",
                "language": "sql"
            },
            "outputs": [
                {
                    "output_type": "display_data",
                    "data": {
                        "text/html": "(6 rows affected)"
                    },
                    "metadata": {}
                },
                {
                    "output_type": "display_data",
                    "data": {
                        "text/html": "Total execution time: 00:00:00.003"
                    },
                    "metadata": {}
                },
                {
                    "output_type": "execute_result",
                    "metadata": {},
                    "execution_count": 36,
                    "data": {
                        "application/vnd.dataresource+json": {
                            "schema": {
                                "fields": [
                                    {
                                        "name": "room_type_reserved"
                                    },
                                    {
                                        "name": "avg_night"
                                    }
                                ]
                            },
                            "data": [
                                {
                                    "room_type_reserved": "Room_Type 1",
                                    "avg_night": "2"
                                },
                                {
                                    "room_type_reserved": "Room_Type 2",
                                    "avg_night": "3"
                                },
                                {
                                    "room_type_reserved": "Room_Type 4",
                                    "avg_night": "3"
                                },
                                {
                                    "room_type_reserved": "Room_Type 5",
                                    "avg_night": "2"
                                },
                                {
                                    "room_type_reserved": "Room_Type 6",
                                    "avg_night": "3"
                                },
                                {
                                    "room_type_reserved": "Room_Type 7",
                                    "avg_night": "2"
                                }
                            ]
                        },
                        "text/html": [
                            "<table>",
                            "<tr><th>room_type_reserved</th><th>avg_night</th></tr>",
                            "<tr><td>Room_Type 1</td><td>2</td></tr>",
                            "<tr><td>Room_Type 2</td><td>3</td></tr>",
                            "<tr><td>Room_Type 4</td><td>3</td></tr>",
                            "<tr><td>Room_Type 5</td><td>2</td></tr>",
                            "<tr><td>Room_Type 6</td><td>3</td></tr>",
                            "<tr><td>Room_Type 7</td><td>2</td></tr>",
                            "</table>"
                        ]
                    }
                }
            ],
            "execution_count": 36
        },
        {
            "cell_type": "markdown",
            "source": [
                "### **14. the most common room type and he average** **price for that room type with children**"
            ],
            "metadata": {
                "language": "sql",
                "azdata_cell_guid": "157eddd8-66f7-47a5-94fa-ee22739e74ff"
            },
            "attachments": {}
        },
        {
            "cell_type": "code",
            "source": [
                "SELECT TOP 1 room_type_reserved, AVG(avg_price_per_room) AS avg_price\n",
                "FROM hotels \n",
                "WHERE no_of_children > 0\n",
                "GROUP BY room_type_reserved\n",
                "ORDER BY COUNT(*) DESC"
            ],
            "metadata": {
                "language": "sql",
                "azdata_cell_guid": "d2e686a3-dada-4a03-8363-fb9ccf118502"
            },
            "outputs": [
                {
                    "output_type": "display_data",
                    "data": {
                        "text/html": "(1 row affected)"
                    },
                    "metadata": {}
                },
                {
                    "output_type": "display_data",
                    "data": {
                        "text/html": "Total execution time: 00:00:00.002"
                    },
                    "metadata": {}
                },
                {
                    "output_type": "execute_result",
                    "metadata": {},
                    "execution_count": 37,
                    "data": {
                        "application/vnd.dataresource+json": {
                            "schema": {
                                "fields": [
                                    {
                                        "name": "room_type_reserved"
                                    },
                                    {
                                        "name": "avg_price"
                                    }
                                ]
                            },
                            "data": [
                                {
                                    "room_type_reserved": "Room_Type 1",
                                    "avg_price": "123.12291653951009"
                                }
                            ]
                        },
                        "text/html": [
                            "<table>",
                            "<tr><th>room_type_reserved</th><th>avg_price</th></tr>",
                            "<tr><td>Room_Type 1</td><td>123.12291653951009</td></tr>",
                            "</table>"
                        ]
                    }
                }
            ],
            "execution_count": 37
        },
        {
            "cell_type": "markdown",
            "source": [
                "### **15\\. The market segment type that generates the highest average price per room**"
            ],
            "metadata": {
                "language": "sql",
                "azdata_cell_guid": "39d24127-a4ce-466f-80a7-4a05bf4069b1"
            },
            "attachments": {}
        },
        {
            "cell_type": "code",
            "source": [
                "SELECT TOP 1 market_segment_type, AVG(avg_price_per_room) AS avg_price_per_room\n",
                "FROM hotels\n",
                "GROUP BY market_segment_type\n",
                "ORDER BY avg_price_per_room DESC"
            ],
            "metadata": {
                "language": "sql",
                "azdata_cell_guid": "2ee32519-9e11-4a56-ad22-78e5f1bc8357"
            },
            "outputs": [
                {
                    "output_type": "display_data",
                    "data": {
                        "text/html": "(1 row affected)"
                    },
                    "metadata": {}
                },
                {
                    "output_type": "display_data",
                    "data": {
                        "text/html": "Total execution time: 00:00:00.003"
                    },
                    "metadata": {}
                },
                {
                    "output_type": "execute_result",
                    "metadata": {},
                    "execution_count": 38,
                    "data": {
                        "application/vnd.dataresource+json": {
                            "schema": {
                                "fields": [
                                    {
                                        "name": "market_segment_type"
                                    },
                                    {
                                        "name": "avg_price_per_room"
                                    }
                                ]
                            },
                            "data": [
                                {
                                    "market_segment_type": "Online",
                                    "avg_price_per_room": "112.45521233164666"
                                }
                            ]
                        },
                        "text/html": [
                            "<table>",
                            "<tr><th>market_segment_type</th><th>avg_price_per_room</th></tr>",
                            "<tr><td>Online</td><td>112.45521233164666</td></tr>",
                            "</table>"
                        ]
                    }
                }
            ],
            "execution_count": 38
        }
    ]
}